{
 "cells": [
  {
   "cell_type": "code",
   "execution_count": 9,
   "id": "3d50d492-3343-4d15-a8eb-938c9a903765",
   "metadata": {},
   "outputs": [],
   "source": [
    "import abc\n",
    "class pwskills:\n",
    "    \n",
    "    @abc.abstractmethod\n",
    "    def students_detials(self):\n",
    "        pass\n",
    "    \n",
    "    @abc.abstractmethod\n",
    "    def student_assignemnt(self):\n",
    "        pass\n",
    "    \n",
    "    @abc.abstractmethod\n",
    "    def student_marks(self):\n",
    "        pass\n",
    "    "
   ]
  },
  {
   "cell_type": "code",
   "execution_count": 15,
   "id": "e104d610-e78b-4fde-b814-a5dbc2642edc",
   "metadata": {},
   "outputs": [],
   "source": [
    "pwskills.student_marks(52)"
   ]
  },
  {
   "cell_type": "code",
   "execution_count": 16,
   "id": "1c6281aa-b58c-4948-b164-bc2694b37f1a",
   "metadata": {},
   "outputs": [],
   "source": [
    "pwskills.student_assignemnt(\"assign7th\")"
   ]
  },
  {
   "cell_type": "code",
   "execution_count": 19,
   "id": "e2df3bf2-66e8-43f4-87d8-e3b809fb5e9d",
   "metadata": {},
   "outputs": [],
   "source": [
    "pwskills.students_detials(\"opps\")"
   ]
  },
  {
   "cell_type": "code",
   "execution_count": 52,
   "id": "048d002c-0b02-4c60-bd80-215321f5a781",
   "metadata": {},
   "outputs": [],
   "source": [
    "class phone :\n",
    "    \n",
    "    def __init__(self , name , model , year ):\n",
    "        self.name = name\n",
    "        self.__model = model\n",
    "        self.__year = year\n",
    "    \n",
    "    def phone_details(self):\n",
    "        pass"
   ]
  },
  {
   "cell_type": "code",
   "execution_count": 54,
   "id": "00629abd-3318-4441-ad0d-69f5fb12611e",
   "metadata": {},
   "outputs": [],
   "source": [
    "pw = phone(\"redmi\" , \"toyota\" , 2022)"
   ]
  },
  {
   "cell_type": "code",
   "execution_count": 55,
   "id": "82124489-5983-409f-9426-6d40fc3061cc",
   "metadata": {},
   "outputs": [
    {
     "ename": "AttributeError",
     "evalue": "'phone' object has no attribute 'year'",
     "output_type": "error",
     "traceback": [
      "\u001b[0;31m---------------------------------------------------------------------------\u001b[0m",
      "\u001b[0;31mAttributeError\u001b[0m                            Traceback (most recent call last)",
      "Cell \u001b[0;32mIn[55], line 1\u001b[0m\n\u001b[0;32m----> 1\u001b[0m \u001b[43mpw\u001b[49m\u001b[38;5;241;43m.\u001b[39;49m\u001b[43myear\u001b[49m\n",
      "\u001b[0;31mAttributeError\u001b[0m: 'phone' object has no attribute 'year'"
     ]
    }
   ],
   "source": [
    "pw.year"
   ]
  },
  {
   "cell_type": "code",
   "execution_count": 56,
   "id": "17115d2b-660d-43d1-87da-5dee30efb7b0",
   "metadata": {},
   "outputs": [],
   "source": [
    "pw.phone_details()"
   ]
  },
  {
   "cell_type": "code",
   "execution_count": 57,
   "id": "0a1f7c74-fb33-4b6c-9bee-a4c8480ce660",
   "metadata": {},
   "outputs": [
    {
     "data": {
      "text/plain": [
       "'redmi'"
      ]
     },
     "execution_count": 57,
     "metadata": {},
     "output_type": "execute_result"
    }
   ],
   "source": [
    "pw.name"
   ]
  },
  {
   "cell_type": "code",
   "execution_count": 58,
   "id": "2769f6cc-0e9d-48fc-b43c-32ea51270df7",
   "metadata": {},
   "outputs": [
    {
     "ename": "AttributeError",
     "evalue": "'phone' object has no attribute 'model'",
     "output_type": "error",
     "traceback": [
      "\u001b[0;31m---------------------------------------------------------------------------\u001b[0m",
      "\u001b[0;31mAttributeError\u001b[0m                            Traceback (most recent call last)",
      "Cell \u001b[0;32mIn[58], line 1\u001b[0m\n\u001b[0;32m----> 1\u001b[0m \u001b[43mpw\u001b[49m\u001b[38;5;241;43m.\u001b[39;49m\u001b[43mmodel\u001b[49m\n",
      "\u001b[0;31mAttributeError\u001b[0m: 'phone' object has no attribute 'model'"
     ]
    }
   ],
   "source": [
    "pw.model"
   ]
  },
  {
   "cell_type": "code",
   "execution_count": 61,
   "id": "c7e4c1a0-35a9-4d50-be96-c553d5a7dab2",
   "metadata": {},
   "outputs": [],
   "source": [
    "# modeland year are got hide by using encapsulation"
   ]
  },
  {
   "cell_type": "code",
   "execution_count": 62,
   "id": "90f78e6a-c1e1-45cf-b5e3-3a361e16282a",
   "metadata": {},
   "outputs": [],
   "source": [
    "class Shape(abc.ABC):\n",
    "    @abc.abstractmethod\n",
    "    def area(self):\n",
    "        pass\n",
    "@Shape.register\n",
    "class Rectangle():\n",
    "    def __init__(self, x,y):\n",
    "        self.l = x\n",
    "        self.b=y\n",
    "    def area(self):\n",
    "        return self.l*self.b"
   ]
  },
  {
   "cell_type": "code",
   "execution_count": null,
   "id": "4efee4c3-8459-460d-b0ac-ca649f7c7f09",
   "metadata": {},
   "outputs": [],
   "source": []
  }
 ],
 "metadata": {
  "kernelspec": {
   "display_name": "Python 3 (ipykernel)",
   "language": "python",
   "name": "python3"
  },
  "language_info": {
   "codemirror_mode": {
    "name": "ipython",
    "version": 3
   },
   "file_extension": ".py",
   "mimetype": "text/x-python",
   "name": "python",
   "nbconvert_exporter": "python",
   "pygments_lexer": "ipython3",
   "version": "3.10.8"
  }
 },
 "nbformat": 4,
 "nbformat_minor": 5
}
